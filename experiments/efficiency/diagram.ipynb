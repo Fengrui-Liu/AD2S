{
 "cells": [
  {
   "cell_type": "code",
   "execution_count": 90,
   "metadata": {},
   "outputs": [
    {
     "name": "stdout",
     "output_type": "stream",
     "text": [
      "The autoreload extension is already loaded. To reload it, use:\n",
      "  %reload_ext autoreload\n"
     ]
    },
    {
     "data": {
      "text/html": [
       "<div>\n",
       "<style scoped>\n",
       "    .dataframe tbody tr th:only-of-type {\n",
       "        vertical-align: middle;\n",
       "    }\n",
       "\n",
       "    .dataframe tbody tr th {\n",
       "        vertical-align: top;\n",
       "    }\n",
       "\n",
       "    .dataframe thead th {\n",
       "        text-align: right;\n",
       "    }\n",
       "</style>\n",
       "<table border=\"1\" class=\"dataframe\">\n",
       "  <thead>\n",
       "    <tr style=\"text-align: right;\">\n",
       "      <th></th>\n",
       "      <th>kNNCAD</th>\n",
       "      <th>RRCF</th>\n",
       "      <th>TDigest</th>\n",
       "      <th>xStream</th>\n",
       "      <th>RSHash</th>\n",
       "      <th>REntropy</th>\n",
       "      <th>NBC</th>\n",
       "      <th>SVELTE</th>\n",
       "      <th>TranAD</th>\n",
       "      <th>AD2S</th>\n",
       "    </tr>\n",
       "  </thead>\n",
       "  <tbody>\n",
       "    <tr>\n",
       "      <th>1</th>\n",
       "      <td>6.319</td>\n",
       "      <td>15.211</td>\n",
       "      <td>0.412</td>\n",
       "      <td>24.621</td>\n",
       "      <td>16.222</td>\n",
       "      <td>7.230</td>\n",
       "      <td>1.221</td>\n",
       "      <td>0.321</td>\n",
       "      <td>3.509</td>\n",
       "      <td>13.322</td>\n",
       "    </tr>\n",
       "    <tr>\n",
       "      <th>2</th>\n",
       "      <td>6.001</td>\n",
       "      <td>7.320</td>\n",
       "      <td>0.301</td>\n",
       "      <td>21.501</td>\n",
       "      <td>10.314</td>\n",
       "      <td>6.215</td>\n",
       "      <td>0.823</td>\n",
       "      <td>0.456</td>\n",
       "      <td>2.721</td>\n",
       "      <td>4.513</td>\n",
       "    </tr>\n",
       "    <tr>\n",
       "      <th>3</th>\n",
       "      <td>5.892</td>\n",
       "      <td>8.271</td>\n",
       "      <td>0.334</td>\n",
       "      <td>19.210</td>\n",
       "      <td>8.678</td>\n",
       "      <td>6.960</td>\n",
       "      <td>0.345</td>\n",
       "      <td>0.315</td>\n",
       "      <td>2.811</td>\n",
       "      <td>5.415</td>\n",
       "    </tr>\n",
       "    <tr>\n",
       "      <th>4</th>\n",
       "      <td>6.129</td>\n",
       "      <td>20.349</td>\n",
       "      <td>0.710</td>\n",
       "      <td>26.870</td>\n",
       "      <td>18.221</td>\n",
       "      <td>9.213</td>\n",
       "      <td>0.941</td>\n",
       "      <td>0.559</td>\n",
       "      <td>3.774</td>\n",
       "      <td>17.658</td>\n",
       "    </tr>\n",
       "    <tr>\n",
       "      <th>5</th>\n",
       "      <td>6.003</td>\n",
       "      <td>7.870</td>\n",
       "      <td>0.314</td>\n",
       "      <td>11.102</td>\n",
       "      <td>11.993</td>\n",
       "      <td>6.330</td>\n",
       "      <td>0.322</td>\n",
       "      <td>0.449</td>\n",
       "      <td>2.520</td>\n",
       "      <td>9.359</td>\n",
       "    </tr>\n",
       "    <tr>\n",
       "      <th>6</th>\n",
       "      <td>6.219</td>\n",
       "      <td>5.915</td>\n",
       "      <td>0.399</td>\n",
       "      <td>15.540</td>\n",
       "      <td>13.212</td>\n",
       "      <td>5.877</td>\n",
       "      <td>0.243</td>\n",
       "      <td>0.420</td>\n",
       "      <td>2.909</td>\n",
       "      <td>8.711</td>\n",
       "    </tr>\n",
       "    <tr>\n",
       "      <th>7</th>\n",
       "      <td>5.592</td>\n",
       "      <td>7.564</td>\n",
       "      <td>0.347</td>\n",
       "      <td>14.632</td>\n",
       "      <td>11.662</td>\n",
       "      <td>4.923</td>\n",
       "      <td>0.210</td>\n",
       "      <td>0.499</td>\n",
       "      <td>2.879</td>\n",
       "      <td>6.354</td>\n",
       "    </tr>\n",
       "    <tr>\n",
       "      <th>8</th>\n",
       "      <td>7.002</td>\n",
       "      <td>13.273</td>\n",
       "      <td>0.599</td>\n",
       "      <td>21.396</td>\n",
       "      <td>14.328</td>\n",
       "      <td>8.200</td>\n",
       "      <td>0.789</td>\n",
       "      <td>0.461</td>\n",
       "      <td>2.603</td>\n",
       "      <td>13.897</td>\n",
       "    </tr>\n",
       "  </tbody>\n",
       "</table>\n",
       "</div>"
      ],
      "text/plain": [
       "   kNNCAD    RRCF  TDigest  xStream  RSHash  REntropy    NBC  SVELTE  TranAD  \\\n",
       "1   6.319  15.211    0.412   24.621  16.222     7.230  1.221   0.321   3.509   \n",
       "2   6.001   7.320    0.301   21.501  10.314     6.215  0.823   0.456   2.721   \n",
       "3   5.892   8.271    0.334   19.210   8.678     6.960  0.345   0.315   2.811   \n",
       "4   6.129  20.349    0.710   26.870  18.221     9.213  0.941   0.559   3.774   \n",
       "5   6.003   7.870    0.314   11.102  11.993     6.330  0.322   0.449   2.520   \n",
       "6   6.219   5.915    0.399   15.540  13.212     5.877  0.243   0.420   2.909   \n",
       "7   5.592   7.564    0.347   14.632  11.662     4.923  0.210   0.499   2.879   \n",
       "8   7.002  13.273    0.599   21.396  14.328     8.200  0.789   0.461   2.603   \n",
       "\n",
       "     AD2S  \n",
       "1  13.322  \n",
       "2   4.513  \n",
       "3   5.415  \n",
       "4  17.658  \n",
       "5   9.359  \n",
       "6   8.711  \n",
       "7   6.354  \n",
       "8  13.897  "
      ]
     },
     "execution_count": 90,
     "metadata": {},
     "output_type": "execute_result"
    }
   ],
   "source": [
    "%load_ext autoreload\n",
    "%autoreload 2\n",
    "from cd_diagram import draw_cd_diagram\n",
    "import pandas as pd\n",
    "df = pd.read_csv('./execution_time.csv',index_col=0)\n"
   ]
  },
  {
   "cell_type": "code",
   "execution_count": null,
   "metadata": {},
   "outputs": [],
   "source": [
    "# df['dataset_name'] = df.index\n",
    "# df = df.melt(var_name='classifier_name',id_vars='dataset_name',value_name='value')\n",
    "# df['value'] = 1/df['value']\n",
    "# plt = draw_cd_diagram(df_perf=df, title=\"Average execution time\", labels=True)\n",
    "# plt.savefig(\"cd-diagram-eff.pdf\", format=\"pdf\", bbox_inches=\"tight\")"
   ]
  },
  {
   "cell_type": "code",
   "execution_count": 92,
   "metadata": {},
   "outputs": [],
   "source": [
    "df_mean = df.mean().round(2)"
   ]
  },
  {
   "cell_type": "code",
   "execution_count": 96,
   "metadata": {},
   "outputs": [],
   "source": [
    "df_mean =df_mean[['TDigest',\n",
    "'SVELTE', \n",
    "'kNNCAD', \n",
    "'REntropy',\n",
    "'NBC', \n",
    "'TranAD', \n",
    "'AD2S',\n",
    "'RRCF', \n",
    "'RSHash', \n",
    "'xStream']]"
   ]
  },
  {
   "cell_type": "code",
   "execution_count": 105,
   "metadata": {},
   "outputs": [
    {
     "data": {
      "application/vnd.plotly.v1+json": {
       "config": {
        "plotlyServerURL": "https://plot.ly"
       },
       "data": [
        {
         "marker": {
          "color": [
           "lightsalmon",
           "lightsalmon",
           "lightsalmon",
           "lightsalmon",
           "lightsalmon",
           "lightsalmon",
           "crimson",
           "indianred",
           "indianred",
           "indianred"
          ]
         },
         "text": [
          0.43,
          0.44,
          6.14,
          6.87,
          0.61,
          2.97,
          9.9,
          10.72,
          13.08,
          19.36
         ],
         "textposition": "auto",
         "type": "bar",
         "x": [
          "TDigest",
          "SVELTE",
          "kNNCAD",
          "REntropy",
          "NBC",
          "TranAD",
          "AD2S",
          "RRCF",
          "RSHash",
          "xStream"
         ],
         "y": [
          0.43,
          0.44,
          6.14,
          6.87,
          0.61,
          2.97,
          9.9,
          10.72,
          13.08,
          19.36
         ]
        }
       ],
       "layout": {
        "annotations": [
         {
          "font": {
           "size": 20
          },
          "showarrow": false,
          "text": "Deterministic",
          "textangle": 0,
          "x": 1.5,
          "xref": "x",
          "y": 1.15,
          "yref": "paper"
         },
         {
          "font": {
           "size": 20
          },
          "showarrow": false,
          "text": "Training-based",
          "textangle": 0,
          "x": 4.5,
          "xref": "x",
          "y": 1.15,
          "yref": "paper"
         },
         {
          "font": {
           "size": 20
          },
          "showarrow": false,
          "text": "Ensemble-based",
          "textangle": 0,
          "x": 7.5,
          "xref": "x",
          "y": 1.15,
          "yref": "paper"
         }
        ],
        "font": {
         "color": "black",
         "family": "Times New Roman",
         "size": 20
        },
        "height": 400,
        "legend": {
         "bgcolor": "rgba(0,0,0,0)",
         "x": 0.6,
         "y": 0
        },
        "margin": {
         "b": 0,
         "l": 0,
         "r": 0,
         "t": 40
        },
        "plot_bgcolor": "white",
        "shapes": [
         {
          "line": {
           "color": "black",
           "width": 2
          },
          "type": "line",
          "x0": "TDigest",
          "x1": "TDigest",
          "xref": "x",
          "y0": 1,
          "y1": 1.05,
          "yref": "paper"
         },
         {
          "line": {
           "color": "black",
           "width": 2
          },
          "type": "line",
          "x0": "REntropy",
          "x1": "REntropy",
          "xref": "x",
          "y0": 1,
          "y1": 1.05,
          "yref": "paper"
         },
         {
          "line": {
           "color": "black",
           "width": 2
          },
          "type": "line",
          "x0": "TDigest",
          "x1": "REntropy",
          "xref": "x",
          "y0": 1.05,
          "y1": 1.05,
          "yref": "paper"
         },
         {
          "line": {
           "color": "black",
           "width": 2
          },
          "type": "line",
          "x0": "xStream",
          "x1": "xStream",
          "xref": "x",
          "y0": 1,
          "y1": 1.05,
          "yref": "paper"
         },
         {
          "line": {
           "color": "black",
           "width": 2
          },
          "type": "line",
          "x0": "AD2S",
          "x1": "AD2S",
          "xref": "x",
          "y0": 1,
          "y1": 1.05,
          "yref": "paper"
         },
         {
          "line": {
           "color": "black",
           "width": 2
          },
          "type": "line",
          "x0": "AD2S",
          "x1": "xStream",
          "xref": "x",
          "y0": 1.05,
          "y1": 1.05,
          "yref": "paper"
         },
         {
          "line": {
           "color": "black",
           "width": 2
          },
          "type": "line",
          "x0": "NBC",
          "x1": "NBC",
          "xref": "x",
          "y0": 1,
          "y1": 1.05,
          "yref": "paper"
         },
         {
          "line": {
           "color": "black",
           "width": 2
          },
          "type": "line",
          "x0": "TranAD",
          "x1": "TranAD",
          "xref": "x",
          "y0": 1,
          "y1": 1.05,
          "yref": "paper"
         },
         {
          "line": {
           "color": "black",
           "width": 2
          },
          "type": "line",
          "x0": "NBC",
          "x1": "TranAD",
          "xref": "x",
          "y0": 1.05,
          "y1": 1.05,
          "yref": "paper"
         }
        ],
        "template": {
         "data": {
          "bar": [
           {
            "error_x": {
             "color": "#2a3f5f"
            },
            "error_y": {
             "color": "#2a3f5f"
            },
            "marker": {
             "line": {
              "color": "#E5ECF6",
              "width": 0.5
             },
             "pattern": {
              "fillmode": "overlay",
              "size": 10,
              "solidity": 0.2
             }
            },
            "type": "bar"
           }
          ],
          "barpolar": [
           {
            "marker": {
             "line": {
              "color": "#E5ECF6",
              "width": 0.5
             },
             "pattern": {
              "fillmode": "overlay",
              "size": 10,
              "solidity": 0.2
             }
            },
            "type": "barpolar"
           }
          ],
          "carpet": [
           {
            "aaxis": {
             "endlinecolor": "#2a3f5f",
             "gridcolor": "white",
             "linecolor": "white",
             "minorgridcolor": "white",
             "startlinecolor": "#2a3f5f"
            },
            "baxis": {
             "endlinecolor": "#2a3f5f",
             "gridcolor": "white",
             "linecolor": "white",
             "minorgridcolor": "white",
             "startlinecolor": "#2a3f5f"
            },
            "type": "carpet"
           }
          ],
          "choropleth": [
           {
            "colorbar": {
             "outlinewidth": 0,
             "ticks": ""
            },
            "type": "choropleth"
           }
          ],
          "contour": [
           {
            "colorbar": {
             "outlinewidth": 0,
             "ticks": ""
            },
            "colorscale": [
             [
              0,
              "#0d0887"
             ],
             [
              0.1111111111111111,
              "#46039f"
             ],
             [
              0.2222222222222222,
              "#7201a8"
             ],
             [
              0.3333333333333333,
              "#9c179e"
             ],
             [
              0.4444444444444444,
              "#bd3786"
             ],
             [
              0.5555555555555556,
              "#d8576b"
             ],
             [
              0.6666666666666666,
              "#ed7953"
             ],
             [
              0.7777777777777778,
              "#fb9f3a"
             ],
             [
              0.8888888888888888,
              "#fdca26"
             ],
             [
              1,
              "#f0f921"
             ]
            ],
            "type": "contour"
           }
          ],
          "contourcarpet": [
           {
            "colorbar": {
             "outlinewidth": 0,
             "ticks": ""
            },
            "type": "contourcarpet"
           }
          ],
          "heatmap": [
           {
            "colorbar": {
             "outlinewidth": 0,
             "ticks": ""
            },
            "colorscale": [
             [
              0,
              "#0d0887"
             ],
             [
              0.1111111111111111,
              "#46039f"
             ],
             [
              0.2222222222222222,
              "#7201a8"
             ],
             [
              0.3333333333333333,
              "#9c179e"
             ],
             [
              0.4444444444444444,
              "#bd3786"
             ],
             [
              0.5555555555555556,
              "#d8576b"
             ],
             [
              0.6666666666666666,
              "#ed7953"
             ],
             [
              0.7777777777777778,
              "#fb9f3a"
             ],
             [
              0.8888888888888888,
              "#fdca26"
             ],
             [
              1,
              "#f0f921"
             ]
            ],
            "type": "heatmap"
           }
          ],
          "heatmapgl": [
           {
            "colorbar": {
             "outlinewidth": 0,
             "ticks": ""
            },
            "colorscale": [
             [
              0,
              "#0d0887"
             ],
             [
              0.1111111111111111,
              "#46039f"
             ],
             [
              0.2222222222222222,
              "#7201a8"
             ],
             [
              0.3333333333333333,
              "#9c179e"
             ],
             [
              0.4444444444444444,
              "#bd3786"
             ],
             [
              0.5555555555555556,
              "#d8576b"
             ],
             [
              0.6666666666666666,
              "#ed7953"
             ],
             [
              0.7777777777777778,
              "#fb9f3a"
             ],
             [
              0.8888888888888888,
              "#fdca26"
             ],
             [
              1,
              "#f0f921"
             ]
            ],
            "type": "heatmapgl"
           }
          ],
          "histogram": [
           {
            "marker": {
             "pattern": {
              "fillmode": "overlay",
              "size": 10,
              "solidity": 0.2
             }
            },
            "type": "histogram"
           }
          ],
          "histogram2d": [
           {
            "colorbar": {
             "outlinewidth": 0,
             "ticks": ""
            },
            "colorscale": [
             [
              0,
              "#0d0887"
             ],
             [
              0.1111111111111111,
              "#46039f"
             ],
             [
              0.2222222222222222,
              "#7201a8"
             ],
             [
              0.3333333333333333,
              "#9c179e"
             ],
             [
              0.4444444444444444,
              "#bd3786"
             ],
             [
              0.5555555555555556,
              "#d8576b"
             ],
             [
              0.6666666666666666,
              "#ed7953"
             ],
             [
              0.7777777777777778,
              "#fb9f3a"
             ],
             [
              0.8888888888888888,
              "#fdca26"
             ],
             [
              1,
              "#f0f921"
             ]
            ],
            "type": "histogram2d"
           }
          ],
          "histogram2dcontour": [
           {
            "colorbar": {
             "outlinewidth": 0,
             "ticks": ""
            },
            "colorscale": [
             [
              0,
              "#0d0887"
             ],
             [
              0.1111111111111111,
              "#46039f"
             ],
             [
              0.2222222222222222,
              "#7201a8"
             ],
             [
              0.3333333333333333,
              "#9c179e"
             ],
             [
              0.4444444444444444,
              "#bd3786"
             ],
             [
              0.5555555555555556,
              "#d8576b"
             ],
             [
              0.6666666666666666,
              "#ed7953"
             ],
             [
              0.7777777777777778,
              "#fb9f3a"
             ],
             [
              0.8888888888888888,
              "#fdca26"
             ],
             [
              1,
              "#f0f921"
             ]
            ],
            "type": "histogram2dcontour"
           }
          ],
          "mesh3d": [
           {
            "colorbar": {
             "outlinewidth": 0,
             "ticks": ""
            },
            "type": "mesh3d"
           }
          ],
          "parcoords": [
           {
            "line": {
             "colorbar": {
              "outlinewidth": 0,
              "ticks": ""
             }
            },
            "type": "parcoords"
           }
          ],
          "pie": [
           {
            "automargin": true,
            "type": "pie"
           }
          ],
          "scatter": [
           {
            "fillpattern": {
             "fillmode": "overlay",
             "size": 10,
             "solidity": 0.2
            },
            "type": "scatter"
           }
          ],
          "scatter3d": [
           {
            "line": {
             "colorbar": {
              "outlinewidth": 0,
              "ticks": ""
             }
            },
            "marker": {
             "colorbar": {
              "outlinewidth": 0,
              "ticks": ""
             }
            },
            "type": "scatter3d"
           }
          ],
          "scattercarpet": [
           {
            "marker": {
             "colorbar": {
              "outlinewidth": 0,
              "ticks": ""
             }
            },
            "type": "scattercarpet"
           }
          ],
          "scattergeo": [
           {
            "marker": {
             "colorbar": {
              "outlinewidth": 0,
              "ticks": ""
             }
            },
            "type": "scattergeo"
           }
          ],
          "scattergl": [
           {
            "marker": {
             "colorbar": {
              "outlinewidth": 0,
              "ticks": ""
             }
            },
            "type": "scattergl"
           }
          ],
          "scattermapbox": [
           {
            "marker": {
             "colorbar": {
              "outlinewidth": 0,
              "ticks": ""
             }
            },
            "type": "scattermapbox"
           }
          ],
          "scatterpolar": [
           {
            "marker": {
             "colorbar": {
              "outlinewidth": 0,
              "ticks": ""
             }
            },
            "type": "scatterpolar"
           }
          ],
          "scatterpolargl": [
           {
            "marker": {
             "colorbar": {
              "outlinewidth": 0,
              "ticks": ""
             }
            },
            "type": "scatterpolargl"
           }
          ],
          "scatterternary": [
           {
            "marker": {
             "colorbar": {
              "outlinewidth": 0,
              "ticks": ""
             }
            },
            "type": "scatterternary"
           }
          ],
          "surface": [
           {
            "colorbar": {
             "outlinewidth": 0,
             "ticks": ""
            },
            "colorscale": [
             [
              0,
              "#0d0887"
             ],
             [
              0.1111111111111111,
              "#46039f"
             ],
             [
              0.2222222222222222,
              "#7201a8"
             ],
             [
              0.3333333333333333,
              "#9c179e"
             ],
             [
              0.4444444444444444,
              "#bd3786"
             ],
             [
              0.5555555555555556,
              "#d8576b"
             ],
             [
              0.6666666666666666,
              "#ed7953"
             ],
             [
              0.7777777777777778,
              "#fb9f3a"
             ],
             [
              0.8888888888888888,
              "#fdca26"
             ],
             [
              1,
              "#f0f921"
             ]
            ],
            "type": "surface"
           }
          ],
          "table": [
           {
            "cells": {
             "fill": {
              "color": "#EBF0F8"
             },
             "line": {
              "color": "white"
             }
            },
            "header": {
             "fill": {
              "color": "#C8D4E3"
             },
             "line": {
              "color": "white"
             }
            },
            "type": "table"
           }
          ]
         },
         "layout": {
          "annotationdefaults": {
           "arrowcolor": "#2a3f5f",
           "arrowhead": 0,
           "arrowwidth": 1
          },
          "autotypenumbers": "strict",
          "coloraxis": {
           "colorbar": {
            "outlinewidth": 0,
            "ticks": ""
           }
          },
          "colorscale": {
           "diverging": [
            [
             0,
             "#8e0152"
            ],
            [
             0.1,
             "#c51b7d"
            ],
            [
             0.2,
             "#de77ae"
            ],
            [
             0.3,
             "#f1b6da"
            ],
            [
             0.4,
             "#fde0ef"
            ],
            [
             0.5,
             "#f7f7f7"
            ],
            [
             0.6,
             "#e6f5d0"
            ],
            [
             0.7,
             "#b8e186"
            ],
            [
             0.8,
             "#7fbc41"
            ],
            [
             0.9,
             "#4d9221"
            ],
            [
             1,
             "#276419"
            ]
           ],
           "sequential": [
            [
             0,
             "#0d0887"
            ],
            [
             0.1111111111111111,
             "#46039f"
            ],
            [
             0.2222222222222222,
             "#7201a8"
            ],
            [
             0.3333333333333333,
             "#9c179e"
            ],
            [
             0.4444444444444444,
             "#bd3786"
            ],
            [
             0.5555555555555556,
             "#d8576b"
            ],
            [
             0.6666666666666666,
             "#ed7953"
            ],
            [
             0.7777777777777778,
             "#fb9f3a"
            ],
            [
             0.8888888888888888,
             "#fdca26"
            ],
            [
             1,
             "#f0f921"
            ]
           ],
           "sequentialminus": [
            [
             0,
             "#0d0887"
            ],
            [
             0.1111111111111111,
             "#46039f"
            ],
            [
             0.2222222222222222,
             "#7201a8"
            ],
            [
             0.3333333333333333,
             "#9c179e"
            ],
            [
             0.4444444444444444,
             "#bd3786"
            ],
            [
             0.5555555555555556,
             "#d8576b"
            ],
            [
             0.6666666666666666,
             "#ed7953"
            ],
            [
             0.7777777777777778,
             "#fb9f3a"
            ],
            [
             0.8888888888888888,
             "#fdca26"
            ],
            [
             1,
             "#f0f921"
            ]
           ]
          },
          "colorway": [
           "#636efa",
           "#EF553B",
           "#00cc96",
           "#ab63fa",
           "#FFA15A",
           "#19d3f3",
           "#FF6692",
           "#B6E880",
           "#FF97FF",
           "#FECB52"
          ],
          "font": {
           "color": "#2a3f5f"
          },
          "geo": {
           "bgcolor": "white",
           "lakecolor": "white",
           "landcolor": "#E5ECF6",
           "showlakes": true,
           "showland": true,
           "subunitcolor": "white"
          },
          "hoverlabel": {
           "align": "left"
          },
          "hovermode": "closest",
          "mapbox": {
           "style": "light"
          },
          "paper_bgcolor": "white",
          "plot_bgcolor": "#E5ECF6",
          "polar": {
           "angularaxis": {
            "gridcolor": "white",
            "linecolor": "white",
            "ticks": ""
           },
           "bgcolor": "#E5ECF6",
           "radialaxis": {
            "gridcolor": "white",
            "linecolor": "white",
            "ticks": ""
           }
          },
          "scene": {
           "xaxis": {
            "backgroundcolor": "#E5ECF6",
            "gridcolor": "white",
            "gridwidth": 2,
            "linecolor": "white",
            "showbackground": true,
            "ticks": "",
            "zerolinecolor": "white"
           },
           "yaxis": {
            "backgroundcolor": "#E5ECF6",
            "gridcolor": "white",
            "gridwidth": 2,
            "linecolor": "white",
            "showbackground": true,
            "ticks": "",
            "zerolinecolor": "white"
           },
           "zaxis": {
            "backgroundcolor": "#E5ECF6",
            "gridcolor": "white",
            "gridwidth": 2,
            "linecolor": "white",
            "showbackground": true,
            "ticks": "",
            "zerolinecolor": "white"
           }
          },
          "shapedefaults": {
           "line": {
            "color": "#2a3f5f"
           }
          },
          "ternary": {
           "aaxis": {
            "gridcolor": "white",
            "linecolor": "white",
            "ticks": ""
           },
           "baxis": {
            "gridcolor": "white",
            "linecolor": "white",
            "ticks": ""
           },
           "bgcolor": "#E5ECF6",
           "caxis": {
            "gridcolor": "white",
            "linecolor": "white",
            "ticks": ""
           }
          },
          "title": {
           "x": 0.05
          },
          "xaxis": {
           "automargin": true,
           "gridcolor": "white",
           "linecolor": "white",
           "ticks": "",
           "title": {
            "standoff": 15
           },
           "zerolinecolor": "white",
           "zerolinewidth": 2
          },
          "yaxis": {
           "automargin": true,
           "gridcolor": "white",
           "linecolor": "white",
           "ticks": "",
           "title": {
            "standoff": 15
           },
           "zerolinecolor": "white",
           "zerolinewidth": 2
          }
         }
        },
        "width": 700,
        "xaxis": {
         "linecolor": "black",
         "linewidth": 2,
         "mirror": true,
         "showgrid": false,
         "showline": true
        },
        "yaxis": {
         "linecolor": "black",
         "linewidth": 2,
         "mirror": true,
         "showgrid": false,
         "showline": true,
         "tickmode": "auto",
         "title": {
          "text": "Average execution time  (ms)"
         }
        }
       }
      }
     },
     "metadata": {},
     "output_type": "display_data"
    }
   ],
   "source": [
    "import plotly.graph_objects as go \n",
    "import numpy as np\n",
    "\n",
    "fig = go.Figure()\n",
    "colors = ['lightsalmon'] * 6 + ['crimson'] + ['indianred'] * 3\n",
    "fig.add_trace(go.Bar(x=df_mean.index, y=df_mean.values, textposition='auto',text=df_mean.values,marker_color=colors))\n",
    "\n",
    "\n",
    "fig.add_shape(type=\"line\",\n",
    "        xref=\"x\", yref=\"paper\",\n",
    "        x0=df_mean.index[0], y0=1, x1=df_mean.index[0], y1=1.05,\n",
    "        line=dict(\n",
    "            color=\"black\",\n",
    "            width=2,\n",
    "        )\n",
    "    )\n",
    "fig.add_shape(type=\"line\",\n",
    "        xref=\"x\", yref=\"paper\",\n",
    "        x0=df_mean.index[3], y0=1, x1=df_mean.index[3], y1=1.05,\n",
    "        line=dict(\n",
    "            color=\"black\",\n",
    "            width=2,\n",
    "        )\n",
    "    )\n",
    "\n",
    "fig.add_shape(type=\"line\",\n",
    "    xref=\"x\", yref=\"paper\",\n",
    "    x0=df_mean.index[0], y0=1.05, x1=df_mean.index[3], y1=1.05,\n",
    "    line=dict(\n",
    "        color=\"black\",\n",
    "        width=2,\n",
    "    )\n",
    ")\n",
    "\n",
    "fig.add_annotation(dict(font=dict(size=14),\n",
    "    x=1.5,\n",
    "    y=1.15,\n",
    "    showarrow=False,\n",
    "    text='Deterministic',\n",
    "    textangle=0,\n",
    "    xref=\"x\", yref=\"paper\",\n",
    "    font_size = 20\n",
    "))\n",
    "\n",
    "\n",
    "fig.add_shape(type=\"line\",\n",
    "        xref=\"x\", yref=\"paper\",\n",
    "        x0=df_mean.index[9], y0=1, x1=df_mean.index[9], y1=1.05,\n",
    "        line=dict(\n",
    "            color=\"black\",\n",
    "            width=2,\n",
    "        )\n",
    "    )\n",
    "fig.add_shape(type=\"line\",\n",
    "        xref=\"x\", yref=\"paper\",\n",
    "        x0=df_mean.index[6], y0=1, x1=df_mean.index[6], y1=1.05,\n",
    "        line=dict(\n",
    "            color=\"black\",\n",
    "            width=2,\n",
    "        )\n",
    "    )\n",
    "\n",
    "fig.add_shape(type=\"line\",\n",
    "    xref=\"x\", yref=\"paper\",\n",
    "    x0=df_mean.index[6], y0=1.05, x1=df_mean.index[9], y1=1.05,\n",
    "    line=dict(\n",
    "        color=\"black\",\n",
    "        width=2,\n",
    "    )\n",
    ")\n",
    "\n",
    "\n",
    "fig.add_annotation(dict(font=dict(size=14),\n",
    "    x=4.5,\n",
    "    y=1.15,\n",
    "    showarrow=False,\n",
    "    text='Training-based',\n",
    "    textangle=0,\n",
    "    xref=\"x\", yref=\"paper\",\n",
    "    font_size = 20\n",
    "))\n",
    "\n",
    "\n",
    "fig.add_shape(type=\"line\",\n",
    "        xref=\"x\", yref=\"paper\",\n",
    "        x0=df_mean.index[4], y0=1, x1=df_mean.index[4], y1=1.05,\n",
    "        line=dict(\n",
    "            color=\"black\",\n",
    "            width=2,\n",
    "        )\n",
    "    )\n",
    "fig.add_shape(type=\"line\",\n",
    "        xref=\"x\", yref=\"paper\",\n",
    "        x0=df_mean.index[5], y0=1, x1=df_mean.index[5], y1=1.05,\n",
    "        line=dict(\n",
    "            color=\"black\",\n",
    "            width=2,\n",
    "        )\n",
    "    )\n",
    "\n",
    "fig.add_shape(type=\"line\",\n",
    "    xref=\"x\", yref=\"paper\",\n",
    "    x0=df_mean.index[4], y0=1.05, x1=df_mean.index[5], y1=1.05,\n",
    "    line=dict(\n",
    "        color=\"black\",\n",
    "        width=2,\n",
    "    )\n",
    ")\n",
    "\n",
    "\n",
    "\n",
    "fig.add_annotation(dict(font=dict(size=14),\n",
    "    x=7.5,\n",
    "    y=1.15,\n",
    "    showarrow=False,\n",
    "    text='Ensemble-based',\n",
    "    textangle=0,\n",
    "    xref=\"x\", yref=\"paper\",\n",
    "    font_size = 20\n",
    "))\n",
    "\n",
    "fig.update_layout(\n",
    "    plot_bgcolor=\"white\",\n",
    "    xaxis=dict(\n",
    "        # title= f\"Anomaly detection methods\",\n",
    "        showline=True,\n",
    "        showgrid=False,\n",
    "        linecolor=\"black\",\n",
    "        linewidth=2,\n",
    "        mirror=True,\n",
    "    ),\n",
    "    yaxis=dict(\n",
    "        title=\"Average execution time  (ms)\",\n",
    "        showline=True,\n",
    "        showgrid=False,\n",
    "        linecolor=\"black\",\n",
    "        linewidth=2,\n",
    "        mirror=True,\n",
    "        tickmode=\"auto\"\n",
    "    ),\n",
    "    font_family=\"Times New Roman\",\n",
    "    font_color=\"black\",\n",
    "    height=400,\n",
    "    width=700,\n",
    "    margin=dict(l=0, r=0, b=0, t=40),\n",
    "    legend=dict(x=0.6, y=0, bgcolor=\"rgba(0,0,0,0)\"),\n",
    "    font=dict(size=20),\n",
    "    # yaxis_range=[0.5, 1.0],\n",
    "    # xaxis=dict(tickvals=list(cfg.experiments.chains.candidate)),\n",
    ")\n",
    "fig.write_image('./avg_time.pdf')\n",
    "fig"
   ]
  },
  {
   "cell_type": "code",
   "execution_count": 137,
   "metadata": {},
   "outputs": [],
   "source": [
    "df = pd.read_csv('./mem_usage.csv',index_col='method')\n",
    "df = df.squeeze()\n",
    "\n",
    "df_mean = df[['TDigest',\n",
    "'SVELTE', \n",
    "'kNNCAD', \n",
    "'REntropy',\n",
    "'NBC', \n",
    "'TranAD', \n",
    "'AD2S',\n",
    "'RRCF', \n",
    "'RSHash', \n",
    "'xStream']]\n",
    "import math\n",
    "df_mean = (df_mean/1000).round(2)\n"
   ]
  },
  {
   "cell_type": "code",
   "execution_count": 138,
   "metadata": {},
   "outputs": [
    {
     "data": {
      "application/vnd.plotly.v1+json": {
       "config": {
        "plotlyServerURL": "https://plot.ly"
       },
       "data": [
        {
         "marker": {
          "color": [
           "lightsalmon",
           "lightsalmon",
           "lightsalmon",
           "lightsalmon",
           "lightsalmon",
           "lightsalmon",
           "crimson",
           "indianred",
           "indianred",
           "indianred"
          ]
         },
         "text": [
          2.18,
          0.24,
          88.07,
          79.74,
          1.22,
          153.81,
          26.14,
          123.56,
          123.96,
          132.16
         ],
         "textposition": "auto",
         "type": "bar",
         "x": [
          "TDigest",
          "SVELTE",
          "kNNCAD",
          "REntropy",
          "NBC",
          "TranAD",
          "AD2S",
          "RRCF",
          "RSHash",
          "xStream"
         ],
         "y": [
          2.18,
          0.24,
          88.07,
          79.74,
          1.22,
          153.81,
          26.14,
          123.56,
          123.96,
          132.16
         ]
        }
       ],
       "layout": {
        "annotations": [
         {
          "font": {
           "size": 20
          },
          "showarrow": false,
          "text": "Deterministic",
          "textangle": 0,
          "x": 1.5,
          "xref": "x",
          "y": 1.15,
          "yref": "paper"
         },
         {
          "font": {
           "size": 20
          },
          "showarrow": false,
          "text": "Training-based",
          "textangle": 0,
          "x": 4.5,
          "xref": "x",
          "y": 1.15,
          "yref": "paper"
         },
         {
          "font": {
           "size": 20
          },
          "showarrow": false,
          "text": "Ensemble-based",
          "textangle": 0,
          "x": 7.5,
          "xref": "x",
          "y": 1.15,
          "yref": "paper"
         }
        ],
        "font": {
         "color": "black",
         "family": "Times New Roman",
         "size": 20
        },
        "height": 400,
        "legend": {
         "bgcolor": "rgba(0,0,0,0)",
         "x": 0.6,
         "y": 0
        },
        "margin": {
         "b": 0,
         "l": 0,
         "r": 0,
         "t": 40
        },
        "plot_bgcolor": "white",
        "shapes": [
         {
          "line": {
           "color": "black",
           "width": 2
          },
          "type": "line",
          "x0": "TDigest",
          "x1": "TDigest",
          "xref": "x",
          "y0": 1,
          "y1": 1.05,
          "yref": "paper"
         },
         {
          "line": {
           "color": "black",
           "width": 2
          },
          "type": "line",
          "x0": "REntropy",
          "x1": "REntropy",
          "xref": "x",
          "y0": 1,
          "y1": 1.05,
          "yref": "paper"
         },
         {
          "line": {
           "color": "black",
           "width": 2
          },
          "type": "line",
          "x0": "TDigest",
          "x1": "REntropy",
          "xref": "x",
          "y0": 1.05,
          "y1": 1.05,
          "yref": "paper"
         },
         {
          "line": {
           "color": "black",
           "width": 2
          },
          "type": "line",
          "x0": "xStream",
          "x1": "xStream",
          "xref": "x",
          "y0": 1,
          "y1": 1.05,
          "yref": "paper"
         },
         {
          "line": {
           "color": "black",
           "width": 2
          },
          "type": "line",
          "x0": "AD2S",
          "x1": "AD2S",
          "xref": "x",
          "y0": 1,
          "y1": 1.05,
          "yref": "paper"
         },
         {
          "line": {
           "color": "black",
           "width": 2
          },
          "type": "line",
          "x0": "AD2S",
          "x1": "xStream",
          "xref": "x",
          "y0": 1.05,
          "y1": 1.05,
          "yref": "paper"
         },
         {
          "line": {
           "color": "black",
           "width": 2
          },
          "type": "line",
          "x0": "NBC",
          "x1": "NBC",
          "xref": "x",
          "y0": 1,
          "y1": 1.05,
          "yref": "paper"
         },
         {
          "line": {
           "color": "black",
           "width": 2
          },
          "type": "line",
          "x0": "TranAD",
          "x1": "TranAD",
          "xref": "x",
          "y0": 1,
          "y1": 1.05,
          "yref": "paper"
         },
         {
          "line": {
           "color": "black",
           "width": 2
          },
          "type": "line",
          "x0": "NBC",
          "x1": "TranAD",
          "xref": "x",
          "y0": 1.05,
          "y1": 1.05,
          "yref": "paper"
         }
        ],
        "template": {
         "data": {
          "bar": [
           {
            "error_x": {
             "color": "#2a3f5f"
            },
            "error_y": {
             "color": "#2a3f5f"
            },
            "marker": {
             "line": {
              "color": "#E5ECF6",
              "width": 0.5
             },
             "pattern": {
              "fillmode": "overlay",
              "size": 10,
              "solidity": 0.2
             }
            },
            "type": "bar"
           }
          ],
          "barpolar": [
           {
            "marker": {
             "line": {
              "color": "#E5ECF6",
              "width": 0.5
             },
             "pattern": {
              "fillmode": "overlay",
              "size": 10,
              "solidity": 0.2
             }
            },
            "type": "barpolar"
           }
          ],
          "carpet": [
           {
            "aaxis": {
             "endlinecolor": "#2a3f5f",
             "gridcolor": "white",
             "linecolor": "white",
             "minorgridcolor": "white",
             "startlinecolor": "#2a3f5f"
            },
            "baxis": {
             "endlinecolor": "#2a3f5f",
             "gridcolor": "white",
             "linecolor": "white",
             "minorgridcolor": "white",
             "startlinecolor": "#2a3f5f"
            },
            "type": "carpet"
           }
          ],
          "choropleth": [
           {
            "colorbar": {
             "outlinewidth": 0,
             "ticks": ""
            },
            "type": "choropleth"
           }
          ],
          "contour": [
           {
            "colorbar": {
             "outlinewidth": 0,
             "ticks": ""
            },
            "colorscale": [
             [
              0,
              "#0d0887"
             ],
             [
              0.1111111111111111,
              "#46039f"
             ],
             [
              0.2222222222222222,
              "#7201a8"
             ],
             [
              0.3333333333333333,
              "#9c179e"
             ],
             [
              0.4444444444444444,
              "#bd3786"
             ],
             [
              0.5555555555555556,
              "#d8576b"
             ],
             [
              0.6666666666666666,
              "#ed7953"
             ],
             [
              0.7777777777777778,
              "#fb9f3a"
             ],
             [
              0.8888888888888888,
              "#fdca26"
             ],
             [
              1,
              "#f0f921"
             ]
            ],
            "type": "contour"
           }
          ],
          "contourcarpet": [
           {
            "colorbar": {
             "outlinewidth": 0,
             "ticks": ""
            },
            "type": "contourcarpet"
           }
          ],
          "heatmap": [
           {
            "colorbar": {
             "outlinewidth": 0,
             "ticks": ""
            },
            "colorscale": [
             [
              0,
              "#0d0887"
             ],
             [
              0.1111111111111111,
              "#46039f"
             ],
             [
              0.2222222222222222,
              "#7201a8"
             ],
             [
              0.3333333333333333,
              "#9c179e"
             ],
             [
              0.4444444444444444,
              "#bd3786"
             ],
             [
              0.5555555555555556,
              "#d8576b"
             ],
             [
              0.6666666666666666,
              "#ed7953"
             ],
             [
              0.7777777777777778,
              "#fb9f3a"
             ],
             [
              0.8888888888888888,
              "#fdca26"
             ],
             [
              1,
              "#f0f921"
             ]
            ],
            "type": "heatmap"
           }
          ],
          "heatmapgl": [
           {
            "colorbar": {
             "outlinewidth": 0,
             "ticks": ""
            },
            "colorscale": [
             [
              0,
              "#0d0887"
             ],
             [
              0.1111111111111111,
              "#46039f"
             ],
             [
              0.2222222222222222,
              "#7201a8"
             ],
             [
              0.3333333333333333,
              "#9c179e"
             ],
             [
              0.4444444444444444,
              "#bd3786"
             ],
             [
              0.5555555555555556,
              "#d8576b"
             ],
             [
              0.6666666666666666,
              "#ed7953"
             ],
             [
              0.7777777777777778,
              "#fb9f3a"
             ],
             [
              0.8888888888888888,
              "#fdca26"
             ],
             [
              1,
              "#f0f921"
             ]
            ],
            "type": "heatmapgl"
           }
          ],
          "histogram": [
           {
            "marker": {
             "pattern": {
              "fillmode": "overlay",
              "size": 10,
              "solidity": 0.2
             }
            },
            "type": "histogram"
           }
          ],
          "histogram2d": [
           {
            "colorbar": {
             "outlinewidth": 0,
             "ticks": ""
            },
            "colorscale": [
             [
              0,
              "#0d0887"
             ],
             [
              0.1111111111111111,
              "#46039f"
             ],
             [
              0.2222222222222222,
              "#7201a8"
             ],
             [
              0.3333333333333333,
              "#9c179e"
             ],
             [
              0.4444444444444444,
              "#bd3786"
             ],
             [
              0.5555555555555556,
              "#d8576b"
             ],
             [
              0.6666666666666666,
              "#ed7953"
             ],
             [
              0.7777777777777778,
              "#fb9f3a"
             ],
             [
              0.8888888888888888,
              "#fdca26"
             ],
             [
              1,
              "#f0f921"
             ]
            ],
            "type": "histogram2d"
           }
          ],
          "histogram2dcontour": [
           {
            "colorbar": {
             "outlinewidth": 0,
             "ticks": ""
            },
            "colorscale": [
             [
              0,
              "#0d0887"
             ],
             [
              0.1111111111111111,
              "#46039f"
             ],
             [
              0.2222222222222222,
              "#7201a8"
             ],
             [
              0.3333333333333333,
              "#9c179e"
             ],
             [
              0.4444444444444444,
              "#bd3786"
             ],
             [
              0.5555555555555556,
              "#d8576b"
             ],
             [
              0.6666666666666666,
              "#ed7953"
             ],
             [
              0.7777777777777778,
              "#fb9f3a"
             ],
             [
              0.8888888888888888,
              "#fdca26"
             ],
             [
              1,
              "#f0f921"
             ]
            ],
            "type": "histogram2dcontour"
           }
          ],
          "mesh3d": [
           {
            "colorbar": {
             "outlinewidth": 0,
             "ticks": ""
            },
            "type": "mesh3d"
           }
          ],
          "parcoords": [
           {
            "line": {
             "colorbar": {
              "outlinewidth": 0,
              "ticks": ""
             }
            },
            "type": "parcoords"
           }
          ],
          "pie": [
           {
            "automargin": true,
            "type": "pie"
           }
          ],
          "scatter": [
           {
            "fillpattern": {
             "fillmode": "overlay",
             "size": 10,
             "solidity": 0.2
            },
            "type": "scatter"
           }
          ],
          "scatter3d": [
           {
            "line": {
             "colorbar": {
              "outlinewidth": 0,
              "ticks": ""
             }
            },
            "marker": {
             "colorbar": {
              "outlinewidth": 0,
              "ticks": ""
             }
            },
            "type": "scatter3d"
           }
          ],
          "scattercarpet": [
           {
            "marker": {
             "colorbar": {
              "outlinewidth": 0,
              "ticks": ""
             }
            },
            "type": "scattercarpet"
           }
          ],
          "scattergeo": [
           {
            "marker": {
             "colorbar": {
              "outlinewidth": 0,
              "ticks": ""
             }
            },
            "type": "scattergeo"
           }
          ],
          "scattergl": [
           {
            "marker": {
             "colorbar": {
              "outlinewidth": 0,
              "ticks": ""
             }
            },
            "type": "scattergl"
           }
          ],
          "scattermapbox": [
           {
            "marker": {
             "colorbar": {
              "outlinewidth": 0,
              "ticks": ""
             }
            },
            "type": "scattermapbox"
           }
          ],
          "scatterpolar": [
           {
            "marker": {
             "colorbar": {
              "outlinewidth": 0,
              "ticks": ""
             }
            },
            "type": "scatterpolar"
           }
          ],
          "scatterpolargl": [
           {
            "marker": {
             "colorbar": {
              "outlinewidth": 0,
              "ticks": ""
             }
            },
            "type": "scatterpolargl"
           }
          ],
          "scatterternary": [
           {
            "marker": {
             "colorbar": {
              "outlinewidth": 0,
              "ticks": ""
             }
            },
            "type": "scatterternary"
           }
          ],
          "surface": [
           {
            "colorbar": {
             "outlinewidth": 0,
             "ticks": ""
            },
            "colorscale": [
             [
              0,
              "#0d0887"
             ],
             [
              0.1111111111111111,
              "#46039f"
             ],
             [
              0.2222222222222222,
              "#7201a8"
             ],
             [
              0.3333333333333333,
              "#9c179e"
             ],
             [
              0.4444444444444444,
              "#bd3786"
             ],
             [
              0.5555555555555556,
              "#d8576b"
             ],
             [
              0.6666666666666666,
              "#ed7953"
             ],
             [
              0.7777777777777778,
              "#fb9f3a"
             ],
             [
              0.8888888888888888,
              "#fdca26"
             ],
             [
              1,
              "#f0f921"
             ]
            ],
            "type": "surface"
           }
          ],
          "table": [
           {
            "cells": {
             "fill": {
              "color": "#EBF0F8"
             },
             "line": {
              "color": "white"
             }
            },
            "header": {
             "fill": {
              "color": "#C8D4E3"
             },
             "line": {
              "color": "white"
             }
            },
            "type": "table"
           }
          ]
         },
         "layout": {
          "annotationdefaults": {
           "arrowcolor": "#2a3f5f",
           "arrowhead": 0,
           "arrowwidth": 1
          },
          "autotypenumbers": "strict",
          "coloraxis": {
           "colorbar": {
            "outlinewidth": 0,
            "ticks": ""
           }
          },
          "colorscale": {
           "diverging": [
            [
             0,
             "#8e0152"
            ],
            [
             0.1,
             "#c51b7d"
            ],
            [
             0.2,
             "#de77ae"
            ],
            [
             0.3,
             "#f1b6da"
            ],
            [
             0.4,
             "#fde0ef"
            ],
            [
             0.5,
             "#f7f7f7"
            ],
            [
             0.6,
             "#e6f5d0"
            ],
            [
             0.7,
             "#b8e186"
            ],
            [
             0.8,
             "#7fbc41"
            ],
            [
             0.9,
             "#4d9221"
            ],
            [
             1,
             "#276419"
            ]
           ],
           "sequential": [
            [
             0,
             "#0d0887"
            ],
            [
             0.1111111111111111,
             "#46039f"
            ],
            [
             0.2222222222222222,
             "#7201a8"
            ],
            [
             0.3333333333333333,
             "#9c179e"
            ],
            [
             0.4444444444444444,
             "#bd3786"
            ],
            [
             0.5555555555555556,
             "#d8576b"
            ],
            [
             0.6666666666666666,
             "#ed7953"
            ],
            [
             0.7777777777777778,
             "#fb9f3a"
            ],
            [
             0.8888888888888888,
             "#fdca26"
            ],
            [
             1,
             "#f0f921"
            ]
           ],
           "sequentialminus": [
            [
             0,
             "#0d0887"
            ],
            [
             0.1111111111111111,
             "#46039f"
            ],
            [
             0.2222222222222222,
             "#7201a8"
            ],
            [
             0.3333333333333333,
             "#9c179e"
            ],
            [
             0.4444444444444444,
             "#bd3786"
            ],
            [
             0.5555555555555556,
             "#d8576b"
            ],
            [
             0.6666666666666666,
             "#ed7953"
            ],
            [
             0.7777777777777778,
             "#fb9f3a"
            ],
            [
             0.8888888888888888,
             "#fdca26"
            ],
            [
             1,
             "#f0f921"
            ]
           ]
          },
          "colorway": [
           "#636efa",
           "#EF553B",
           "#00cc96",
           "#ab63fa",
           "#FFA15A",
           "#19d3f3",
           "#FF6692",
           "#B6E880",
           "#FF97FF",
           "#FECB52"
          ],
          "font": {
           "color": "#2a3f5f"
          },
          "geo": {
           "bgcolor": "white",
           "lakecolor": "white",
           "landcolor": "#E5ECF6",
           "showlakes": true,
           "showland": true,
           "subunitcolor": "white"
          },
          "hoverlabel": {
           "align": "left"
          },
          "hovermode": "closest",
          "mapbox": {
           "style": "light"
          },
          "paper_bgcolor": "white",
          "plot_bgcolor": "#E5ECF6",
          "polar": {
           "angularaxis": {
            "gridcolor": "white",
            "linecolor": "white",
            "ticks": ""
           },
           "bgcolor": "#E5ECF6",
           "radialaxis": {
            "gridcolor": "white",
            "linecolor": "white",
            "ticks": ""
           }
          },
          "scene": {
           "xaxis": {
            "backgroundcolor": "#E5ECF6",
            "gridcolor": "white",
            "gridwidth": 2,
            "linecolor": "white",
            "showbackground": true,
            "ticks": "",
            "zerolinecolor": "white"
           },
           "yaxis": {
            "backgroundcolor": "#E5ECF6",
            "gridcolor": "white",
            "gridwidth": 2,
            "linecolor": "white",
            "showbackground": true,
            "ticks": "",
            "zerolinecolor": "white"
           },
           "zaxis": {
            "backgroundcolor": "#E5ECF6",
            "gridcolor": "white",
            "gridwidth": 2,
            "linecolor": "white",
            "showbackground": true,
            "ticks": "",
            "zerolinecolor": "white"
           }
          },
          "shapedefaults": {
           "line": {
            "color": "#2a3f5f"
           }
          },
          "ternary": {
           "aaxis": {
            "gridcolor": "white",
            "linecolor": "white",
            "ticks": ""
           },
           "baxis": {
            "gridcolor": "white",
            "linecolor": "white",
            "ticks": ""
           },
           "bgcolor": "#E5ECF6",
           "caxis": {
            "gridcolor": "white",
            "linecolor": "white",
            "ticks": ""
           }
          },
          "title": {
           "x": 0.05
          },
          "xaxis": {
           "automargin": true,
           "gridcolor": "white",
           "linecolor": "white",
           "ticks": "",
           "title": {
            "standoff": 15
           },
           "zerolinecolor": "white",
           "zerolinewidth": 2
          },
          "yaxis": {
           "automargin": true,
           "gridcolor": "white",
           "linecolor": "white",
           "ticks": "",
           "title": {
            "standoff": 15
           },
           "zerolinecolor": "white",
           "zerolinewidth": 2
          }
         }
        },
        "width": 700,
        "xaxis": {
         "linecolor": "black",
         "linewidth": 2,
         "mirror": true,
         "showgrid": false,
         "showline": true
        },
        "yaxis": {
         "linecolor": "black",
         "linewidth": 2,
         "mirror": true,
         "showgrid": false,
         "showline": true,
         "tickmode": "auto",
         "title": {
          "text": "Maximum memory usage (KB)"
         }
        }
       }
      }
     },
     "metadata": {},
     "output_type": "display_data"
    }
   ],
   "source": [
    "import plotly.graph_objects as go \n",
    "import numpy as np\n",
    "\n",
    "fig = go.Figure()\n",
    "colors = ['lightsalmon'] * 6 + ['crimson'] + ['indianred'] * 3\n",
    "fig.add_trace(go.Bar(x=df_mean.index, y=df_mean.values, textposition='auto',text=df_mean.values,marker_color=colors))\n",
    "\n",
    "\n",
    "fig.add_shape(type=\"line\",\n",
    "        xref=\"x\", yref=\"paper\",\n",
    "        x0=df_mean.index[0], y0=1, x1=df_mean.index[0], y1=1.05,\n",
    "        line=dict(\n",
    "            color=\"black\",\n",
    "            width=2,\n",
    "        )\n",
    "    )\n",
    "fig.add_shape(type=\"line\",\n",
    "        xref=\"x\", yref=\"paper\",\n",
    "        x0=df_mean.index[3], y0=1, x1=df_mean.index[3], y1=1.05,\n",
    "        line=dict(\n",
    "            color=\"black\",\n",
    "            width=2,\n",
    "        )\n",
    "    )\n",
    "\n",
    "fig.add_shape(type=\"line\",\n",
    "    xref=\"x\", yref=\"paper\",\n",
    "    x0=df_mean.index[0], y0=1.05, x1=df_mean.index[3], y1=1.05,\n",
    "    line=dict(\n",
    "        color=\"black\",\n",
    "        width=2,\n",
    "    )\n",
    ")\n",
    "\n",
    "fig.add_annotation(dict(font=dict(size=14),\n",
    "    x=1.5,\n",
    "    y=1.15,\n",
    "    showarrow=False,\n",
    "    text='Deterministic',\n",
    "    textangle=0,\n",
    "    xref=\"x\", yref=\"paper\",\n",
    "    font_size = 20\n",
    "))\n",
    "\n",
    "\n",
    "fig.add_shape(type=\"line\",\n",
    "        xref=\"x\", yref=\"paper\",\n",
    "        x0=df_mean.index[9], y0=1, x1=df_mean.index[9], y1=1.05,\n",
    "        line=dict(\n",
    "            color=\"black\",\n",
    "            width=2,\n",
    "        )\n",
    "    )\n",
    "fig.add_shape(type=\"line\",\n",
    "        xref=\"x\", yref=\"paper\",\n",
    "        x0=df_mean.index[6], y0=1, x1=df_mean.index[6], y1=1.05,\n",
    "        line=dict(\n",
    "            color=\"black\",\n",
    "            width=2,\n",
    "        )\n",
    "    )\n",
    "\n",
    "fig.add_shape(type=\"line\",\n",
    "    xref=\"x\", yref=\"paper\",\n",
    "    x0=df_mean.index[6], y0=1.05, x1=df_mean.index[9], y1=1.05,\n",
    "    line=dict(\n",
    "        color=\"black\",\n",
    "        width=2,\n",
    "    )\n",
    ")\n",
    "\n",
    "\n",
    "fig.add_annotation(dict(font=dict(size=14),\n",
    "    x=4.5,\n",
    "    y=1.15,\n",
    "    showarrow=False,\n",
    "    text='Training-based',\n",
    "    textangle=0,\n",
    "    xref=\"x\", yref=\"paper\",\n",
    "    font_size = 20\n",
    "))\n",
    "\n",
    "\n",
    "fig.add_shape(type=\"line\",\n",
    "        xref=\"x\", yref=\"paper\",\n",
    "        x0=df_mean.index[4], y0=1, x1=df_mean.index[4], y1=1.05,\n",
    "        line=dict(\n",
    "            color=\"black\",\n",
    "            width=2,\n",
    "        )\n",
    "    )\n",
    "fig.add_shape(type=\"line\",\n",
    "        xref=\"x\", yref=\"paper\",\n",
    "        x0=df_mean.index[5], y0=1, x1=df_mean.index[5], y1=1.05,\n",
    "        line=dict(\n",
    "            color=\"black\",\n",
    "            width=2,\n",
    "        )\n",
    "    )\n",
    "\n",
    "fig.add_shape(type=\"line\",\n",
    "    xref=\"x\", yref=\"paper\",\n",
    "    x0=df_mean.index[4], y0=1.05, x1=df_mean.index[5], y1=1.05,\n",
    "    line=dict(\n",
    "        color=\"black\",\n",
    "        width=2,\n",
    "    )\n",
    ")\n",
    "\n",
    "\n",
    "\n",
    "fig.add_annotation(dict(font=dict(size=14),\n",
    "    x=7.5,\n",
    "    y=1.15,\n",
    "    showarrow=False,\n",
    "    text='Ensemble-based',\n",
    "    textangle=0,\n",
    "    xref=\"x\", yref=\"paper\",\n",
    "    font_size = 20\n",
    "))\n",
    "\n",
    "fig.update_layout(\n",
    "    plot_bgcolor=\"white\",\n",
    "    xaxis=dict(\n",
    "        # title= f\"Anomaly detection methods\",\n",
    "        showline=True,\n",
    "        showgrid=False,\n",
    "        linecolor=\"black\",\n",
    "        linewidth=2,\n",
    "        mirror=True,\n",
    "    ),\n",
    "    yaxis=dict(\n",
    "        title=\"Maximum memory usage (KB)\",\n",
    "        showline=True,\n",
    "        showgrid=False,\n",
    "        linecolor=\"black\",\n",
    "        linewidth=2,\n",
    "        mirror=True,\n",
    "        tickmode=\"auto\"\n",
    "    ),\n",
    "    font_family=\"Times New Roman\",\n",
    "    font_color=\"black\",\n",
    "    height=400,\n",
    "    width=700,\n",
    "    margin=dict(l=0, r=0, b=0, t=40),\n",
    "    legend=dict(x=0.6, y=0, bgcolor=\"rgba(0,0,0,0)\"),\n",
    "    font=dict(size=20),\n",
    "    # yaxis_range=[0.5, 1.0],\n",
    "    # xaxis=dict(tickvals=list(cfg.experiments.chains.candidate)),\n",
    ")\n",
    "fig.write_image('./avg_mem.pdf')\n",
    "fig"
   ]
  }
 ],
 "metadata": {
  "kernelspec": {
   "display_name": ".venv",
   "language": "python",
   "name": "python3"
  },
  "language_info": {
   "codemirror_mode": {
    "name": "ipython",
    "version": 3
   },
   "file_extension": ".py",
   "mimetype": "text/x-python",
   "name": "python",
   "nbconvert_exporter": "python",
   "pygments_lexer": "ipython3",
   "version": "3.9.16"
  },
  "orig_nbformat": 4
 },
 "nbformat": 4,
 "nbformat_minor": 2
}
